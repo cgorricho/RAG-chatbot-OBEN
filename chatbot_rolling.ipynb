{
 "cells": [
  {
   "cell_type": "code",
   "execution_count": 2,
   "metadata": {},
   "outputs": [],
   "source": [
    "### OBEN GROUP - PROYECTO DE INTELIGENCIA ARTIFICIAL ###\n",
    "#\n",
    "# Archivo base para webapp prototipo\n",
    "# Chatbot con documentos\n",
    "#\n",
    "# Desarrollado por:\n",
    "# Carlos Gorricho\n",
    "# cel: +57 314 771 0660\n",
    "# email: carlosgorricho@hobengroup.co"
   ]
  },
  {
   "cell_type": "code",
   "execution_count": 12,
   "metadata": {},
   "outputs": [],
   "source": [
    "### IMPORTAR DEPENDENCIAS ###\n",
    "import streamlit as st\n",
    "from PyPDF2 import PdfReader\n",
    "from langchain.chains import RetrievalQA\n",
    "from langchain_community.document_loaders import TextLoader\n",
    "from langchain_community.embeddings.openai import OpenAIEmbeddings\n",
    "from langchain_community.llms import OpenAI\n",
    "from langchain_community.chat_models import ChatOpenAI\n",
    "from langchain.text_splitter import CharacterTextSplitter, RecursiveCharacterTextSplitter\n",
    "from langchain_community.vectorstores import Chroma\n",
    "from langchain import hub\n",
    "from langchain.schema.runnable import RunnablePassthrough\n",
    "from langchain.retrievers.multi_query import MultiQueryRetriever\n",
    "from langchain.prompts import PromptTemplate\n",
    "from typing import List\n",
    "from langchain.chains import LLMChain\n",
    "from langchain.output_parsers import PydanticOutputParser\n",
    "from langchain_core.prompts import PromptTemplate\n",
    "# from langchain_pinecone import PineconeVectorStore\n",
    "from pydantic import BaseModel, Field\n",
    "import dotenv\n",
    "import os\n",
    "import warnings\n",
    "warnings.filterwarnings('ignore') "
   ]
  },
  {
   "cell_type": "code",
   "execution_count": 4,
   "metadata": {},
   "outputs": [
    {
     "data": {
      "text/plain": [
       "True"
      ]
     },
     "execution_count": 4,
     "metadata": {},
     "output_type": "execute_result"
    }
   ],
   "source": [
    "# carga variables de entorno de .env\n",
    "dotenv.load_dotenv()"
   ]
  },
  {
   "cell_type": "code",
   "execution_count": 39,
   "metadata": {},
   "outputs": [],
   "source": [
    "pdf_docs = ['./manuales/LineOperationManual_P_1932SHB_en-GB_v1_2022-01-24.pdf']"
   ]
  },
  {
   "cell_type": "code",
   "execution_count": 43,
   "metadata": {},
   "outputs": [],
   "source": [
    "text = \"\"\n",
    "for pdf in pdf_docs:\n",
    "    pdf_reader = PdfReader(pdf)\n",
    "    for page in pdf_reader.pages:\n",
    "        text += page.extract_text()"
   ]
  },
  {
   "cell_type": "code",
   "execution_count": 100,
   "metadata": {},
   "outputs": [
    {
     "data": {
      "text/plain": [
       "374997"
      ]
     },
     "execution_count": 100,
     "metadata": {},
     "output_type": "execute_result"
    }
   ],
   "source": [
    "len(text)"
   ]
  },
  {
   "cell_type": "code",
   "execution_count": 101,
   "metadata": {},
   "outputs": [],
   "source": [
    "text_splitter = RecursiveCharacterTextSplitter(\n",
    "    chunk_size=2048, \n",
    "    chunk_overlap=256)\n",
    "chunks = text_splitter.create_documents([text])"
   ]
  },
  {
   "cell_type": "code",
   "execution_count": 104,
   "metadata": {},
   "outputs": [
    {
     "data": {
      "text/plain": [
       "210"
      ]
     },
     "execution_count": 104,
     "metadata": {},
     "output_type": "execute_result"
    }
   ],
   "source": [
    "len(chunks)"
   ]
  },
  {
   "cell_type": "code",
   "execution_count": 105,
   "metadata": {},
   "outputs": [
    {
     "data": {
      "text/plain": [
       "2032"
      ]
     },
     "execution_count": 105,
     "metadata": {},
     "output_type": "execute_result"
    }
   ],
   "source": [
    "len(chunks[0].page_content)"
   ]
  },
  {
   "cell_type": "code",
   "execution_count": 106,
   "metadata": {},
   "outputs": [
    {
     "name": "stdout",
     "output_type": "stream",
     "text": [
      "2032\n",
      "1987\n",
      "1967\n",
      "1923\n",
      "1895\n",
      "2015\n",
      "1988\n",
      "1920\n",
      "1973\n",
      "2017\n",
      "1971\n",
      "1942\n",
      "2044\n",
      "1937\n",
      "1966\n",
      "1890\n",
      "2022\n",
      "1980\n",
      "1981\n",
      "2028\n",
      "2023\n",
      "2001\n",
      "2003\n",
      "1971\n",
      "2034\n",
      "2008\n",
      "1991\n",
      "2004\n",
      "2030\n",
      "2013\n",
      "2030\n",
      "2026\n",
      "2034\n",
      "2046\n",
      "2032\n",
      "2037\n",
      "2026\n",
      "1981\n",
      "2019\n",
      "2018\n",
      "2041\n",
      "2041\n",
      "2025\n",
      "2026\n",
      "1977\n",
      "2008\n",
      "1983\n",
      "2009\n",
      "1995\n",
      "1987\n",
      "1990\n",
      "2014\n",
      "2009\n",
      "2046\n",
      "2041\n",
      "2003\n",
      "1994\n",
      "2029\n",
      "2010\n",
      "2012\n",
      "2036\n",
      "1999\n",
      "2027\n",
      "2042\n",
      "1979\n",
      "1988\n",
      "2004\n",
      "2012\n",
      "1982\n",
      "1987\n",
      "2044\n",
      "2010\n",
      "2000\n",
      "2042\n",
      "2039\n",
      "2043\n",
      "2016\n",
      "1982\n",
      "2000\n",
      "2042\n",
      "2042\n",
      "2020\n",
      "2037\n",
      "1984\n",
      "2009\n",
      "2012\n",
      "2010\n",
      "2047\n",
      "2007\n",
      "1990\n",
      "2009\n",
      "2018\n",
      "2029\n",
      "2025\n",
      "1969\n",
      "1973\n",
      "2018\n",
      "1999\n",
      "2046\n",
      "2047\n",
      "2028\n",
      "1997\n",
      "2013\n",
      "2017\n",
      "2030\n",
      "2010\n",
      "2011\n",
      "2034\n",
      "2009\n",
      "1983\n",
      "2029\n",
      "2024\n",
      "2016\n",
      "2046\n",
      "2004\n",
      "2038\n",
      "2006\n",
      "1995\n",
      "2006\n",
      "2015\n",
      "2015\n",
      "2007\n",
      "2029\n",
      "2026\n",
      "2038\n",
      "2035\n",
      "1985\n",
      "1969\n",
      "1986\n",
      "1989\n",
      "2044\n",
      "1995\n",
      "2015\n",
      "2011\n",
      "2034\n",
      "1955\n",
      "2020\n",
      "2041\n",
      "2012\n",
      "2040\n",
      "2004\n",
      "2045\n",
      "1996\n",
      "2046\n",
      "1998\n",
      "2044\n",
      "2009\n",
      "2036\n",
      "2036\n",
      "1980\n",
      "2024\n",
      "2042\n",
      "2005\n",
      "1994\n",
      "1992\n",
      "2014\n",
      "2004\n",
      "2020\n",
      "2022\n",
      "2031\n",
      "2019\n",
      "2013\n",
      "2047\n",
      "2023\n",
      "2017\n",
      "2038\n",
      "2039\n",
      "1987\n",
      "2044\n",
      "2046\n",
      "1999\n",
      "2047\n",
      "1984\n",
      "1994\n",
      "1992\n",
      "2001\n",
      "2003\n",
      "2014\n",
      "2035\n",
      "1976\n",
      "1988\n",
      "2042\n",
      "1968\n",
      "2037\n",
      "2013\n",
      "1990\n",
      "2029\n",
      "2022\n",
      "2008\n",
      "1980\n",
      "2040\n",
      "1989\n",
      "2031\n",
      "2005\n",
      "2020\n",
      "2017\n",
      "2016\n",
      "1972\n",
      "1994\n",
      "2011\n",
      "2027\n",
      "2001\n",
      "2047\n",
      "2031\n",
      "2035\n",
      "2017\n",
      "2039\n",
      "1977\n",
      "2022\n",
      "706\n"
     ]
    }
   ],
   "source": [
    "for chunk in chunks:\n",
    "    print(len(chunk.page_content))"
   ]
  },
  {
   "cell_type": "code",
   "execution_count": 60,
   "metadata": {},
   "outputs": [
    {
     "data": {
      "text/plain": [
       "<langchain_community.vectorstores.chroma.Chroma at 0x180b65a8050>"
      ]
     },
     "execution_count": 60,
     "metadata": {},
     "output_type": "execute_result"
    }
   ],
   "source": [
    "Chroma.from_documents(documents=chunks,\n",
    "                          embedding=OpenAIEmbeddings(model='text-embedding-3-large'), \n",
    "                          persist_directory=\"./chroma_db_debug\",\n",
    "                          )"
   ]
  },
  {
   "cell_type": "code",
   "execution_count": 61,
   "metadata": {},
   "outputs": [],
   "source": [
    "# This is the first API key input; no need to repeat it in the main function.\n",
    "\n",
    "def get_conversational_chain(retriever):\n",
    "    template = \"\"\"Use the following pieces of context to answer the question at the end. \n",
    "        Always answer the question in the language in which it is asked.\n",
    "        If you don't know the answer, just say that you don't know, don't try to make up an answer. \n",
    "        Give your responses primarily in numbered lists. \n",
    "    \n",
    "    {context}\n",
    "\n",
    "    Question: {question}\n",
    "\n",
    "    Helpful Answer:\n",
    "    \"\"\"\n",
    "    rag_prompt_custom = PromptTemplate.from_template(template)\n",
    "    \n",
    "    llm = ChatOpenAI(model=\"gpt-4o\", \n",
    "                     temperature=0,\n",
    "                     )\n",
    "    \n",
    "    chain = ({\"context\": retriever, \n",
    "             \"question\": RunnablePassthrough()} \n",
    "             | rag_prompt_custom \n",
    "             | llm)\n",
    "    \n",
    "    return chain"
   ]
  },
  {
   "cell_type": "code",
   "execution_count": 82,
   "metadata": {},
   "outputs": [],
   "source": [
    "embeddings = OpenAIEmbeddings(model='text-embedding-3-large')\n",
    "new_db_debug = Chroma(persist_directory=\"./chroma_db_debug\",\n",
    "                embedding_function=embeddings,\n",
    "                )\n",
    "retriever_debug = new_db_debug.as_retriever()"
   ]
  },
  {
   "cell_type": "code",
   "execution_count": 85,
   "metadata": {},
   "outputs": [],
   "source": [
    "user_question = 'medidas de seguridad de los sistemas neumáticos'"
   ]
  },
  {
   "cell_type": "code",
   "execution_count": 86,
   "metadata": {},
   "outputs": [],
   "source": [
    "context = retriever_debug.invoke(user_question)"
   ]
  },
  {
   "cell_type": "code",
   "execution_count": 87,
   "metadata": {},
   "outputs": [
    {
     "data": {
      "text/plain": [
       "[Document(page_content='or iron tools) and permanent magnets away from magnetic parts.\\n►Use suitable tools made of non magnetisable material.\\n►Use non magnetisable materials (e.g. a wooden bar) to free pinched body parts\\nin case of an accident.\\nATTENTION\\nPowerful magnetic and electromagnetic fields attract ferromagnetic parts\\nsuch as tools or fixing parts made of steel.\\n►Do not bring ferromagnetic parts, i.e. magnetisable parts, near the magnets.General safety\\nFlexible pipes and wires\\nLine operation manual P.1932 SHB v1 en 1/24/2022 23/2252.9Flexible pipes and wires\\n CAUTION\\nFlexible pipes may whip about when lines are under pressure and can cause\\ninjury.\\n►Depressurise the system prior to service work.\\n►Only release the connections when depressurised.\\n2.10 Pneumatic system\\n DANGER\\nPneumatic valves switched by a person can lead to uncontrolled movements.\\nUncontrolled movements of pneumatically operated assemblies lead to death or\\nserious injury.\\n►Only actuate pneumatic valves when no one is located in the danger zone.\\n WARNING\\nUnexpected movements caused by defects in the pneumatic system can\\ncause serious injury.\\n►Do not remain in the swivelling range of the pneumatically moved component.\\n►Wait until the standstill position is reached.\\n WARNING\\nMoving machine parts can crush, entangle, draw in and crash into body parts.\\nThis can lead to serious injury.\\n►Before actuating the machine parts, ensure that no one is located in the danger\\nzone.\\n►Wear personal protective equipment.\\n►Keep away from the area of movement.\\n►Do not reach into the vicinity of moving machine parts.\\n►Wait for the machine to come to a standstill.\\n CAUTION\\nFlexible pipes may whip about when lines are under pressure and can cause\\ninjury.\\n►Depressurise the system prior to service work.\\n►Only release the connections when depressurised.\\n2.11 Hydraulic system\\n DANGER\\nHydraulic valves switched by a person can lead to uncontrolled movements.\\nUncontrolled movements of hydraulically operated assemblies lead to death or seri-\\nous injury.'),\n",
       " Document(page_content='►Only release the connections when depressurised.\\n2.11 Hydraulic system\\n DANGER\\nHydraulic valves switched by a person can lead to uncontrolled movements.\\nUncontrolled movements of hydraulically operated assemblies lead to death or seri-\\nous injury.\\n►Only actuate hydraulic valves when no one is located in the danger zone.General safety\\nHydraulic system\\n24/225 Line operation manual P.1932 SHB v1 en 1/24/2022\\n WARNING\\nHydraulic oils irritate the skin and cause toxic vapours.\\nIrritation of skin, eyes and airways.\\nChanges in mental state from solvent vapours.\\n►Only carry out this work if the area is well ventilated.\\n►Do not breathe in the vapours.\\n►Wear suitable protective clothing.\\n►Immediately change oil-contaminated clothing.\\n►Do not carry oil-contaminated cleaning cloths within your clothing.\\n►Avoid contact with skin and eyes.\\n►If hydraulic oil penetrates under the skin under high pressure immediately con-\\nsult a doctor (danger of tissue damages).\\n►Keep away from food and beverages.\\n►Pay attention to the safety data sheets of the manufacturer.\\n WARNING\\nHydraulic oils are combustible.\\nDanger of fire!\\n►Regularly check the structural fire protection devices.\\n►Regularly check the hydraulic system for leaks.\\n►Immediately fix any leaks.\\n►Remove and properly dispose of leaked oils immediately. Use oil absorbent if\\nnecessary.\\n►Stow oil-contaminated cleaning cloths in non-combustible, closed containers.\\n►Keep hydraulic oil away from sources of ignition.\\n►Pay attention to the safety data sheets of the manufacturer.\\n WARNING\\nUnexpected movements can be caused by faults or service work on the pneu-\\nmatic system or hydraulic system.\\nThis can lead to serious injury.\\n►Depressurise the pneumatic system prior to maintenance work.\\n►Switch off the hydraulic system prior to maintenance work.\\n►Wait for the machine to come to a standstill.\\n►Only switch the pneumatic valves manually when no one is located in the\\ndanger zone.General safety\\nHydraulic system\\nLine operation manual P.1932 SHB v1 en 1/24/2022 25/225\\n WARNING'),\n",
       " Document(page_content='Area Operating tem-\\nperature [°C]Fan speed [%] Information\\npreheating section 90 -105 60\\xa0-\\xa090 •The temperature and the fan speed depend\\non the output.\\n•The temperature progression is decreasing.\\nThe temperature changes should be approx.\\n1–2\\xa0°C.\\nstretching section 100\\xa0-\\xa0120 60\\xa0-\\xa080 •All temperatures are the same or the tem-\\nperature progression is slightly increasing.\\n•The fan speed depends on the film thick-\\nness. Especially at film thicknesses\\n<\\xa020\\xa0µm, the fan speed is reduced.\\nannealing section 180\\xa0-\\xa0250 60-\\xa090 •Temperatures rise at the beginning, then\\nlevel off and drop off at the end.\\n•The fan speed depends on the film thick-\\nness. Especially at film thicknesses\\n<\\xa020\\xa0µm, the fan speed is reduced.\\ncooling section 30\\xa0-\\xa0150 60\\xa0-\\xa090\\n16.5 Eliminating a failure of the pneumatic system\\nFailure of the pneu-\\nmatic systemIf the compressed air in the pneumatic system of a line component drops below the\\nminimum value, the pressure valves in the switch cabinet switch off. All pneumatic-\\nally operated components remain in the current position. The horn sounds and the\\nerror message is displayed in the visualisation. A failure of the pneumatic system\\nusually leads to a malfunction of the film production line.\\nRequirement •The line component is in \"Production Mode\".\\n•The [\\xa0pneumatic\\xa0reset\\xa0]  push button flashes on the operator panel.\\nSafety\\n  WARNING\\nWhile resetting faults in the pneumatics supply, unexpected movements of in-\\ndividual components may occur.\\nThis can cause life-threatening injury.\\n►Ensure that no one is located in the danger zone.\\n►Wait until the standstill position is reached.\\nResetting the pneu-\\nmatic system►Ensure that no one is located in the danger zone.\\n►Reset the pneumatic supply to the defined initial state. Press [\\xa0pneu-\\nmatic\\xa0reset\\xa0]  on the operator panel.Operating the transverse direction orienter\\nCleaning the transverse direction orienter\\n186/225 Line operation manual P.1932 SHB v1 en 1/24/2022Resetting the fault Faults output by the process control system must be reset after the fault is elimin-'),\n",
       " Document(page_content='[\\xa0safety\\xa0gate\\xa0]  to [\\xa0lock\\xa0] .\\nðThe function locks of the safety gate are reset.\\n18.11 Winding modes\\nWinding modes The two-station turret winder has the following winding modes:\\n•Contact winding\\n•Gap Winding Mode\\nWinCC OA The operation of the winding modes is carried out in WinCC\\xa0OA.\\n•The winding mode can be selected.\\n•Settings for winding mode can be made.\\n•The winding density is calculated and displayed.\\nContact winding \"Contact Winding Mode\" is the standard winding mode.Operating the winder unit\\nEliminating a failure of the pneumatic system\\n218/225 Line operation manual P.1932 SHB v1 en 1/24/2022\\n1Contact roll 2Gap ±\\xa00\\n3Mill roll\\nDuring contact winding, the contact roll presses the film onto the mill roll. Thus,\\nwhen winding up the film, the air inclusion between the film layers of the mill roll is\\nreduced. The building up mill roll pushes the contact roll backward in its linear guid-\\nance. The contact pressure is continually controlled.\\nFor contact winding, the following values can be set:\\n•Pressure of the contact roll on the mill roll depending on the mill roll diameter\\n•Tension of the mill roll depending on the mill roll diameter\\nGap winding\\n1Contact roll 2Mill roll\\n3Gap\\nDuring gap winding, a constant gap is maintained between the contact roll and the\\nmill roll. To achieve this, the contact roll moves back in the case of mill rolls increas-\\ning in size.\\nFor gap winding, the following values can be set:\\n•Gap between the contact roll and mill roll\\n•Tension of the mill roll depending on the mill roll diameter\\n18.12 Eliminating a failure of the pneumatic system\\nFailure of the pneu-\\nmatic systemIf the compressed air in the pneumatic system of a line component falls below the\\nminimum value, the pressure valves in the control cabinet switch off. The compon-\\nents operated with compressed air remain in the current position. The nip rolls can\\nmove into the centre of gravity. The horn sounds and the error message is dis-\\nplayed on the visualisation. A failure of the pneumatic system usually leads to a')]"
      ]
     },
     "execution_count": 87,
     "metadata": {},
     "output_type": "execute_result"
    }
   ],
   "source": [
    "context"
   ]
  },
  {
   "cell_type": "code",
   "execution_count": 88,
   "metadata": {},
   "outputs": [
    {
     "data": {
      "text/plain": [
       "4"
      ]
     },
     "execution_count": 88,
     "metadata": {},
     "output_type": "execute_result"
    }
   ],
   "source": [
    "len(context)"
   ]
  },
  {
   "cell_type": "code",
   "execution_count": 89,
   "metadata": {},
   "outputs": [],
   "source": [
    "chain = get_conversational_chain(retriever)"
   ]
  },
  {
   "cell_type": "code",
   "execution_count": 90,
   "metadata": {},
   "outputs": [],
   "source": [
    "response = chain.invoke(user_question)"
   ]
  },
  {
   "cell_type": "code",
   "execution_count": 91,
   "metadata": {},
   "outputs": [
    {
     "name": "stdout",
     "output_type": "stream",
     "text": [
      "1. **Actuación de válvulas neumáticas:**\n",
      "   - Solo accionar las válvulas neumáticas cuando no haya nadie en la zona de peligro.\n",
      "\n",
      "2. **Movimientos inesperados:**\n",
      "   - No permanecer en el rango de giro de los componentes neumáticos en movimiento.\n",
      "   - Esperar hasta que se alcance la posición de parada.\n",
      "\n",
      "3. **Partes móviles de la máquina:**\n",
      "   - Asegurarse de que nadie esté en la zona de peligro antes de accionar las partes móviles de la máquina.\n",
      "   - Usar equipo de protección personal.\n",
      "   - Mantenerse alejado del área de movimiento.\n",
      "   - No alcanzar las proximidades de las partes móviles de la máquina.\n",
      "   - Esperar a que la máquina se detenga.\n",
      "\n",
      "4. **Despresurización del sistema:**\n",
      "   - Despresurizar el sistema antes de realizar trabajos de mantenimiento.\n",
      "   - Solo liberar las conexiones cuando estén despresurizadas.\n",
      "\n",
      "5. **Fallas en el sistema neumático:**\n",
      "   - Asegurarse de que nadie esté en la zona de peligro al restablecer fallas en el suministro neumático.\n",
      "   - Esperar hasta que se alcance la posición de parada.\n",
      "   - Restablecer el suministro neumático al estado inicial definido.\n",
      "\n",
      "6. **Mantenimiento:**\n",
      "   - Despresurizar el sistema neumático antes de realizar trabajos de mantenimiento.\n",
      "   - Apagar el sistema hidráulico antes de realizar trabajos de mantenimiento.\n",
      "   - Esperar a que la máquina se detenga.\n",
      "   - Solo accionar manualmente las válvulas neumáticas cuando no haya nadie en la zona de peligro.\n"
     ]
    }
   ],
   "source": [
    "print(response.content)"
   ]
  },
  {
   "cell_type": "code",
   "execution_count": 92,
   "metadata": {},
   "outputs": [],
   "source": [
    "new_db = Chroma(persist_directory=\"./chroma_db\",\n",
    "                embedding_function=embeddings,\n",
    "                )\n",
    "retriever = new_db.as_retriever()"
   ]
  },
  {
   "cell_type": "code",
   "execution_count": 97,
   "metadata": {},
   "outputs": [
    {
     "name": "stderr",
     "output_type": "stream",
     "text": [
      "Number of requested results 4 is greater than number of elements in index 1, updating n_results = 1\n"
     ]
    }
   ],
   "source": [
    "context_debug = retriever.invoke(user_question)"
   ]
  },
  {
   "cell_type": "code",
   "execution_count": 99,
   "metadata": {},
   "outputs": [
    {
     "data": {
      "text/plain": [
       "374997"
      ]
     },
     "execution_count": 99,
     "metadata": {},
     "output_type": "execute_result"
    }
   ],
   "source": [
    "len(context_debug[0].page_content)"
   ]
  }
 ],
 "metadata": {
  "kernelspec": {
   "display_name": "streamlit",
   "language": "python",
   "name": "python3"
  },
  "language_info": {
   "codemirror_mode": {
    "name": "ipython",
    "version": 3
   },
   "file_extension": ".py",
   "mimetype": "text/x-python",
   "name": "python",
   "nbconvert_exporter": "python",
   "pygments_lexer": "ipython3",
   "version": "3.11.9"
  }
 },
 "nbformat": 4,
 "nbformat_minor": 2
}
