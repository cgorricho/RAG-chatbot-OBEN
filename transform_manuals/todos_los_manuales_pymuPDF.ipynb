{
 "cells": [
  {
   "cell_type": "markdown",
   "metadata": {},
   "source": [
    "## Transforma Manuales de Oben Group\n",
    "\n",
    "Este libro de trabajo transforma los manuales de los equipos de producción de plículas plásticas de Oben Colombia, líneas BOPET y BOPP, en las siguientes etapas:\n",
    "* Extrae todos lo bloques de texto\n",
    "* Guarda en formato PDF el manual simplificado, sin tablas ni gráficas\n",
    "\n",
    "Desarrollado por:  \n",
    "HEPTAGON GenAI | AIML  \n",
    "Carlos Gorricho  \n",
    "cel: +57 314 771 0660  \n",
    "email: cgorricho@heptagongroup.co  "
   ]
  },
  {
   "cell_type": "code",
   "execution_count": 3,
   "metadata": {},
   "outputs": [
    {
     "data": {
      "text/plain": [
       "datetime.datetime(2024, 8, 8, 15, 48, 21, 648806)"
      ]
     },
     "execution_count": 3,
     "metadata": {},
     "output_type": "execute_result"
    }
   ],
   "source": [
    "from datetime import datetime   # para implmentar el cronómetro\n",
    "\n",
    "start = datetime.now()\n",
    "start"
   ]
  },
  {
   "cell_type": "markdown",
   "metadata": {},
   "source": [
    "### Importa dependencias"
   ]
  },
  {
   "cell_type": "code",
   "execution_count": 4,
   "metadata": {},
   "outputs": [],
   "source": [
    "# convierte el documento en PDF a txt con librería PyMuPDF\n",
    "import pymupdf\n",
    "from multi_column import column_boxes           # importa función column_boxes\n",
    "import regex\n",
    "import os\n"
   ]
  },
  {
   "cell_type": "markdown",
   "metadata": {},
   "source": [
    "### Abre manual de interés"
   ]
  },
  {
   "cell_type": "code",
   "execution_count": 24,
   "metadata": {},
   "outputs": [
    {
     "data": {
      "text/plain": [
       "['VOLUME 00 - OverviewDocumentation_P_1932_SHB.pdf',\n",
       " 'VOLUME 01 - OperatingManual-LineOverview_P_1932_SHB.pdf',\n",
       " 'VOLUME 02 - LineOperationManual_P_1932SHB.pdf',\n",
       " 'VOLUME 03 - OperatingManual_ProcessManual_P_1932SHB.pdf',\n",
       " 'VOLUME 04 - OperatingManual-Oven_P_1932_SHB.pdf',\n",
       " 'VOLUME 05 - OperatingManual-WinderUnit_P_1932_SHB.pdf',\n",
       " 'VOLUME 06 - OperatingManual-VacuumSystem_P_1932_SHB.pdf',\n",
       " 'VOLUME 07 - OperatingManual-InlineCoatingDevice_P_1932_SHB.pdf',\n",
       " 'VOLUME 08 - OperatingManual-FilmRecycling_P_1932_SHB.pdf',\n",
       " 'VOLUME 09 - OperatingManual-AuxiliaryWinder_P_1932_SHB.pdf',\n",
       " 'VOLUME 10 - OperatingManual-DiePreheatingStation_P_1932_SBH_.pdf',\n",
       " 'VOLUME 11 - OperatingManual-PullRollUnit_P_1932 SHB.pdf']"
      ]
     },
     "execution_count": 24,
     "metadata": {},
     "output_type": "execute_result"
    }
   ],
   "source": [
    "path = r'C:\\\\Users\\\\CarlosGorricho(ext)\\\\Documents\\\\Manuales_local\\\\SHB1932 - BOPET\\\\'\n",
    "manuales = os.listdir(path)\n",
    "manuales"
   ]
  },
  {
   "cell_type": "code",
   "execution_count": 25,
   "metadata": {},
   "outputs": [
    {
     "name": "stdout",
     "output_type": "stream",
     "text": [
      "VOLUME 00 - OverviewDocumentation\n",
      "VOLUME 01 - OperatingManual-LineOverview\n",
      "VOLUME 02 - LineOperationManual\n",
      "VOLUME 03 - OperatingManual\n",
      "VOLUME 04 - OperatingManual-Oven\n",
      "VOLUME 05 - OperatingManual-WinderUnit\n",
      "VOLUME 06 - OperatingManual-VacuumSystem\n",
      "VOLUME 07 - OperatingManual-InlineCoatingDevice\n",
      "VOLUME 08 - OperatingManual-FilmRecycling\n",
      "VOLUME 09 - OperatingManual-AuxiliaryWinder\n",
      "VOLUME 10 - OperatingManual-DiePreheatingStation\n",
      "VOLUME 11 - OperatingManual-PullRollUnit\n"
     ]
    }
   ],
   "source": [
    "for manual in manuales:\n",
    "    print(manual.split('_')[0].strip())"
   ]
  },
  {
   "cell_type": "code",
   "execution_count": 6,
   "metadata": {},
   "outputs": [],
   "source": [
    "# crea función que utiliza librería\n",
    "def is_korean(value):\n",
    "    if regex.search(r'(\\S*[\\u3131-\\u314e|\\u314f-\\u3163|\\uac00-\\ud7a3]+\\S*)', value):\n",
    "        return True\n",
    "    else:\n",
    "        return False"
   ]
  },
  {
   "cell_type": "code",
   "execution_count": 29,
   "metadata": {},
   "outputs": [
    {
     "name": "stdout",
     "output_type": "stream",
     "text": [
      "Procesando VOLUME 00 - OverviewDocumentation\n",
      "Procesando VOLUME 01 - OperatingManual-LineOverview\n",
      "Procesando VOLUME 02 - LineOperationManual\n",
      "Procesando VOLUME 03 - OperatingManual\n",
      "Procesando VOLUME 04 - OperatingManual-Oven\n",
      "Procesando VOLUME 05 - OperatingManual-WinderUnit\n",
      "Procesando VOLUME 06 - OperatingManual-VacuumSystem\n",
      "Procesando VOLUME 07 - OperatingManual-InlineCoatingDevice\n",
      "Procesando VOLUME 08 - OperatingManual-FilmRecycling\n",
      "Procesando VOLUME 09 - OperatingManual-AuxiliaryWinder\n",
      "Procesando VOLUME 10 - OperatingManual-DiePreheatingStation\n",
      "Procesando VOLUME 11 - OperatingManual-PullRollUnit\n"
     ]
    }
   ],
   "source": [
    "for manual in manuales:\n",
    "    \n",
    "    manual_name = manual.split('_')[0].strip()\n",
    "    print(f'Procesando {manual_name}')\n",
    "    \n",
    "    doc = pymupdf.open(path + manual)\n",
    "    paginas = [doc[i] for i in range(len(doc))]\n",
    "\n",
    "    cont = 0\n",
    "    text = ''\n",
    "    iterador = paginas\n",
    "\n",
    "    for page in iterador:\n",
    "        boxes = column_boxes(page)\n",
    "        cont += 1\n",
    "        text += f\"\\n{manual_name} - Pag {cont} \\n\" # agrega etiqueta \"Volume x - Page y \" con un espacio al final\n",
    "        for rect in boxes:\n",
    "            box_text = page.get_text(clip=rect, sort=True)\n",
    "            box_text_clean = regex.sub(\"\\\\n\", '', box_text)\n",
    "            text += box_text_clean\n",
    "            text += '\\n\\n'\n",
    "        text += \"-\" * 80\n",
    "\n",
    "    with open(f'{manual_name}_clean_output_new.txt', 'w') as file:\n",
    "        file.write(text)\n"
   ]
  },
  {
   "cell_type": "markdown",
   "metadata": {},
   "source": [
    "Para cronómetro"
   ]
  },
  {
   "cell_type": "code",
   "execution_count": 28,
   "metadata": {},
   "outputs": [
    {
     "name": "stdout",
     "output_type": "stream",
     "text": [
      "Tiempo transcurrido: 0:33:26.018475\n"
     ]
    }
   ],
   "source": [
    "end = datetime.now()\n",
    "tiempo = end - start\n",
    "print(f'Tiempo transcurrido: {tiempo}')"
   ]
  }
 ],
 "metadata": {
  "kernelspec": {
   "display_name": "lang-py310",
   "language": "python",
   "name": "python3"
  },
  "language_info": {
   "codemirror_mode": {
    "name": "ipython",
    "version": 3
   },
   "file_extension": ".py",
   "mimetype": "text/x-python",
   "name": "python",
   "nbconvert_exporter": "python",
   "pygments_lexer": "ipython3",
   "version": "3.10.14"
  },
  "orig_nbformat": 4
 },
 "nbformat": 4,
 "nbformat_minor": 2
}
